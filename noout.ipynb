{
 "cells": [
  {
   "cell_type": "markdown",
   "metadata": {},
   "source": [
    "# Basic Population Simulation for Contact Tracing Data Generation"
   ]
  },
  {
   "cell_type": "markdown",
   "metadata": {},
   "source": [
    "## Import Libraries"
   ]
  },
  {
   "cell_type": "code",
   "execution_count": 1,
   "metadata": {},
   "outputs": [],
   "source": [
    "import numpy as np\n",
    "import matplotlib.pyplot as plt\n",
    "import pickle\n",
    "from classes import Person, Location\n",
    "import random, string"
   ]
  },
  {
   "cell_type": "markdown",
   "metadata": {},
   "source": [
    "## Set Plot Style"
   ]
  },
  {
   "cell_type": "code",
   "execution_count": 2,
   "metadata": {},
   "outputs": [],
   "source": [
    "plt.rcParams['figure.figsize'] = [25/2.54, 20/2.54]\n",
    "plt.style.use('dark_background')\n",
    "plt.rcParams['figure.dpi'] = 300\n",
    "prop_cycle = plt.rcParams['axes.prop_cycle']\n",
    "colors = prop_cycle.by_key()['color']"
   ]
  },
  {
   "cell_type": "markdown",
   "metadata": {},
   "source": [
    "## Generics"
   ]
  },
  {
   "cell_type": "markdown",
   "metadata": {},
   "source": [
    "Set the generics for the simulation. The x and y distance is used to designate the area of the simulation. The population density along with the x and y distance determines the number of people in the simulation. The sim_length is in number of days with the smallest being 1. The cell x and y values determine the granularity of the contact area, needs to divide into x and y dist. The percent infected designates the percent of infected people in the simulation. "
   ]
  },
  {
   "cell_type": "code",
   "execution_count": 3,
   "metadata": {},
   "outputs": [],
   "source": [
    "location_x_dist = 10000 #meters\n",
    "location_y_dist = 10000 #meters\n",
    "pop_density = 2 #people per square km\n",
    "sim_length = 1 #days (set to 1 for now)\n",
    "cell_x = 10 #meters\n",
    "cell_y = 10 #meters\n",
    "percent_infected = 1 #percent"
   ]
  },
  {
   "cell_type": "markdown",
   "metadata": {},
   "source": [
    "## Random Variable Parameters"
   ]
  },
  {
   "cell_type": "markdown",
   "metadata": {},
   "source": [
    "The random variables in the simulation determine how many places people visit in a day and the amount of movement around that position."
   ]
  },
  {
   "cell_type": "code",
   "execution_count": 4,
   "metadata": {},
   "outputs": [],
   "source": [
    "#normal dist for num positions per day\n",
    "pos_mu = 5\n",
    "pos_sigma = 2\n",
    "\n",
    "#normal dist for position variation in meters\n",
    "pos_var_mu = 0 #fixed\n",
    "pos_var_sigma = 50"
   ]
  },
  {
   "cell_type": "markdown",
   "metadata": {},
   "source": [
    "## Generated Parameters"
   ]
  },
  {
   "cell_type": "markdown",
   "metadata": {},
   "source": [
    "The generated values are based on the simulation generics that are defined "
   ]
  },
  {
   "cell_type": "code",
   "execution_count": 5,
   "metadata": {},
   "outputs": [
    {
     "name": "stdout",
     "output_type": "stream",
     "text": [
      "Number of People in Sim: 200\n",
      "Number Infected: 2\n"
     ]
    }
   ],
   "source": [
    "area = location_x_dist*location_y_dist\n",
    "cell_area = cell_x*cell_y\n",
    "num_people = pop_density*(area//1000000)\n",
    "num_infected = int(num_people*(percent_infected/100))\n",
    "print('Number of People in Sim:', num_people)\n",
    "print('Number Infected:', num_infected)"
   ]
  },
  {
   "cell_type": "markdown",
   "metadata": {},
   "source": [
    "## Sim Loop"
   ]
  },
  {
   "cell_type": "markdown",
   "metadata": {},
   "source": [
    "The main loop of the simulation that is used to generate population movement based on the generics and random variable distributions."
   ]
  },
  {
   "cell_type": "code",
   "execution_count": 6,
   "metadata": {},
   "outputs": [],
   "source": [
    "people = []\n",
    "min_per_day = 1440\n",
    "\n",
    "for day in range(sim_length):\n",
    "    for i in range(num_people):\n",
    "        #determine number of positions\n",
    "        positions = abs(int(np.random.normal(pos_mu, pos_sigma, 1)))\n",
    "        if positions == 0:\n",
    "            positions = 1\n",
    "    \n",
    "        #randomly assign integer time at each position\n",
    "        random_vals = np.random.randint(1,100,positions)\n",
    "        randoms_sum = sum(random_vals)\n",
    "        position_times = (random_vals/randoms_sum)*min_per_day\n",
    "        #print(position_times)\n",
    "        for m in range(positions):\n",
    "            position_times[m] = int(position_times[m])\n",
    "        diff = min_per_day - sum(position_times)\n",
    "        position_times[0] = position_times[0] + diff\n",
    "        #print(position_times)\n",
    "        # print(sum(position_times))\n",
    "    \n",
    "        #create position locations\n",
    "        locations = []\n",
    "        time = 0\n",
    "        for l in range(positions):\n",
    "            x = np.random.randint(0,location_x_dist)\n",
    "            y = np.random.randint(0,location_y_dist)\n",
    "            loc = Location(day, time, x, y)\n",
    "            locations.append(loc)\n",
    "            time = time + 1\n",
    "        \n",
    "            for r in range(int(position_times[l])-1):\n",
    "                x_var = int(np.random.normal(pos_var_mu, pos_var_sigma, 1))\n",
    "                y_var = int(np.random.normal(pos_var_mu, pos_var_sigma, 1))\n",
    "                loc = Location(day, time, x+x_var, y+y_var)\n",
    "                locations.append(loc)\n",
    "                time = time + 1\n",
    "    \n",
    "        if len(people) < i+1:\n",
    "            person = Person(i, locations)\n",
    "            people.append(person)\n",
    "        else:\n",
    "            people[i].locs.extend(locations)"
   ]
  },
  {
   "cell_type": "markdown",
   "metadata": {},
   "source": [
    "### Plot the point cloud of all people"
   ]
  },
  {
   "cell_type": "code",
   "execution_count": 7,
   "metadata": {},
   "outputs": [],
   "source": [
    "x = []\n",
    "y = []\n",
    "for person in people:\n",
    "    for loc_i in person.locs:\n",
    "        x.append(loc_i.pos[0])\n",
    "        y.append(loc_i.pos[1])\n",
    "    \n",
    "#plt.scatter(x, y, s=.1, label='Uninfected')\n",
    "#plt.axis([0, location_x_dist, 0, location_y_dist])\n",
    "#plt.grid()\n",
    "#plt.legend(loc=\"upper right\", markerscale=10)\n",
    "#plt.title('Population Distribution')\n",
    "#plt.show()"
   ]
  },
  {
   "cell_type": "markdown",
   "metadata": {},
   "source": [
    "### Check time to make sure its linear over multiple days"
   ]
  },
  {
   "cell_type": "code",
   "execution_count": 8,
   "metadata": {},
   "outputs": [],
   "source": [
    "time_t = []\n",
    "for loc_i in people[0].locs:\n",
    "    time_t.append(loc_i.time)\n",
    "#plt.plot(range(min_per_day*sim_length), time_t)\n",
    "#plt.show()"
   ]
  },
  {
   "cell_type": "markdown",
   "metadata": {},
   "source": [
    "## Create Algorithm Grid"
   ]
  },
  {
   "cell_type": "markdown",
   "metadata": {},
   "source": [
    "The grid is filled using a counting pattern to provide unique id for each grid cell"
   ]
  },
  {
   "cell_type": "code",
   "execution_count": 9,
   "metadata": {},
   "outputs": [
    {
     "name": "stdout",
     "output_type": "stream",
     "text": [
      "Number of unique cells: 1000000\n"
     ]
    }
   ],
   "source": [
    "num_cells = (area//cell_area)\n",
    "print('Number of unique cells:',num_cells)"
   ]
  },
  {
   "cell_type": "code",
   "execution_count": 10,
   "metadata": {},
   "outputs": [],
   "source": [
    "cell_ids = []\n",
    "for d in range(sim_length):\n",
    "    cell_matrix = np.arange(num_cells*d,num_cells*(d+1)).reshape(location_x_dist//cell_x, location_y_dist//cell_y)\n",
    "    cell_ids.append(cell_matrix)"
   ]
  },
  {
   "cell_type": "markdown",
   "metadata": {},
   "source": [
    "### Apply cell ids to locations invalidating out of area positions"
   ]
  },
  {
   "cell_type": "markdown",
   "metadata": {},
   "source": [
    "A location position can fall outside the grid area due to position variation random variable. These positions are marked with -1 to denote that the cell is invalid."
   ]
  },
  {
   "cell_type": "code",
   "execution_count": 11,
   "metadata": {},
   "outputs": [],
   "source": [
    "for person in people:\n",
    "    for loc in person.locs:\n",
    "        cell_x_index = int(loc.pos[0]/cell_x)\n",
    "        cell_y_index = int(loc.pos[1]/cell_y)\n",
    "        day = loc.day\n",
    "        if loc.pos[0] < 0 or loc.pos[1] < 0:\n",
    "            cell_id = -1\n",
    "            #print(loc.pos[0], loc.pos[1])\n",
    "        else:\n",
    "            try:\n",
    "                cell_id = cell_ids[day][cell_y_index][cell_x_index]\n",
    "            except:\n",
    "                cell_id = -1\n",
    "                #print(loc.pos[0], loc.pos[1])\n",
    "        loc.cell = cell_id"
   ]
  },
  {
   "cell_type": "code",
   "execution_count": 12,
   "metadata": {},
   "outputs": [],
   "source": [
    "#Check for any un labled cells\n",
    "for person in people:\n",
    "    for loc in person.locs:\n",
    "        if loc.cell == None:\n",
    "            print(loc.cell, loc.pos)"
   ]
  },
  {
   "cell_type": "markdown",
   "metadata": {},
   "source": [
    "## Select Infected People"
   ]
  },
  {
   "cell_type": "code",
   "execution_count": 13,
   "metadata": {},
   "outputs": [],
   "source": [
    "infected = []\n",
    "for i in range(num_infected):\n",
    "    temp_index = int(np.random.randint(0,num_people,1))\n",
    "    people[temp_index].infected = True\n",
    "    infected.append(people[temp_index])\n",
    "    people.pop(temp_index)\n",
    "    #print(people[int(temp_index)].id_num)"
   ]
  },
  {
   "cell_type": "markdown",
   "metadata": {},
   "source": [
    "## Plot the Infected vs Population"
   ]
  },
  {
   "cell_type": "code",
   "execution_count": 14,
   "metadata": {},
   "outputs": [],
   "source": [
    "x = []\n",
    "y = []\n",
    "xi = []\n",
    "yi = []\n",
    "for person in people:\n",
    "    for loc_i in person.locs:\n",
    "        x.append(loc_i.pos[0])\n",
    "        y.append(loc_i.pos[1])\n",
    "\n",
    "for person in infected:\n",
    "    for loc_i in person.locs:\n",
    "        xi.append(loc_i.pos[0])\n",
    "        yi.append(loc_i.pos[1])\n",
    "    \n",
    "#plt.scatter(x, y, s=.1, label='Uninfected')\n",
    "#plt.scatter(xi, yi, c=colors[2], s=.1, label='Infected')\n",
    "#plt.axis([0, location_x_dist, 0, location_y_dist])\n",
    "#plt.grid()\n",
    "#plt.legend(loc=\"upper right\", markerscale=10)\n",
    "#plt.title('Infected Overlayed with Population Distribution')\n",
    "#plt.show()"
   ]
  },
  {
   "cell_type": "markdown",
   "metadata": {},
   "source": [
    "## Check Matching Hits for Population"
   ]
  },
  {
   "cell_type": "code",
   "execution_count": 15,
   "metadata": {},
   "outputs": [
    {
     "name": "stdout",
     "output_type": "stream",
     "text": [
      "Number of infected locations: 2880\n",
      "Number of infected Cells: 2880\n"
     ]
    }
   ],
   "source": [
    "infected_locs = []\n",
    "for person in infected:\n",
    "    infected_locs.extend(person.locs)\n",
    "    \n",
    "infected_cells = []\n",
    "for loc in infected_locs:\n",
    "    infected_cells.append(loc.cell)\n",
    "    #print(loc.cell)\n",
    "        \n",
    "print('Number of infected locations:', len(infected_locs))\n",
    "print('Number of infected Cells:', len(infected_cells))\n",
    "\n",
    "for person in people:\n",
    "    for loc in person.locs:\n",
    "        if loc.cell != -1:\n",
    "            if loc.cell in infected_cells:\n",
    "                temp_count = infected_cells.count(loc.cell)\n",
    "                for i in range(temp_count):\n",
    "                    person.contacts.append(loc)\n",
    "                #print(loc.pos[0], loc.pos[1], loc.cell)           "
   ]
  },
  {
   "cell_type": "markdown",
   "metadata": {},
   "source": [
    "### Plot the contact areas"
   ]
  },
  {
   "cell_type": "code",
   "execution_count": 16,
   "metadata": {},
   "outputs": [],
   "source": [
    "xc = []\n",
    "yc = []\n",
    "for person in people:\n",
    "    if len(person.contacts) > 0:\n",
    "        for loc_con in person.contacts:\n",
    "            xc.append(loc_con.pos[0])\n",
    "            yc.append(loc_con.pos[1])\n",
    "            #print(loc_con.pos[0], loc_con.pos[1])\n",
    "        \n",
    "#plt.scatter(x, y, s=.1, label='Uninfected')\n",
    "#plt.scatter(xi, yi, c=colors[2], s=.1, label='Infected')\n",
    "#plt.scatter(xc, yc, c=colors[3], s=1, label='Contact')\n",
    "#plt.axis([0, location_x_dist, 0, location_y_dist])\n",
    "#plt.grid()\n",
    "#plt.legend(loc=\"upper right\", markerscale=10)\n",
    "#plt.title('Contacts Overlayed with Population Distribution')\n",
    "#plt.show()"
   ]
  },
  {
   "cell_type": "markdown",
   "metadata": {},
   "source": [
    "### Print Statistics"
   ]
  },
  {
   "cell_type": "code",
   "execution_count": 17,
   "metadata": {},
   "outputs": [
    {
     "name": "stdout",
     "output_type": "stream",
     "text": [
      "Average Contact time: 60.733333333333334 mins\n",
      "Median Contact time: 27.0 mins\n",
      "Percent of Population in Contact: 7.5 %\n"
     ]
    }
   ],
   "source": [
    "per_person_num_contacts = []\n",
    "for person in people:\n",
    "    if len(person.contacts) > 0:\n",
    "        per_person_num_contacts.append(len(person.contacts))\n",
    "        \n",
    "average_contact_time = np.mean(per_person_num_contacts)\n",
    "median_contact_time = np.median(per_person_num_contacts)\n",
    "print('Average Contact time:', average_contact_time, 'mins')\n",
    "print('Median Contact time:', median_contact_time, 'mins')\n",
    "\n",
    "num_people_in_contact = len(per_person_num_contacts)\n",
    "percent_of_pop_contact = (num_people_in_contact/num_people)*100\n",
    "print('Percent of Population in Contact:', percent_of_pop_contact, '%')"
   ]
  },
  {
   "cell_type": "markdown",
   "metadata": {},
   "source": [
    "## Save Population Data"
   ]
  },
  {
   "cell_type": "code",
   "execution_count": 18,
   "metadata": {},
   "outputs": [],
   "source": [
    "f1 = 'clear_population.pickle'\n",
    "of1 = open(f1,'wb')\n",
    "pickle.dump(people,of1)\n",
    "of1.close()\n",
    "\n",
    "f2 = 'infected_population.pickle'\n",
    "of2 = open(f2,'wb')\n",
    "pickle.dump(infected,of2)\n",
    "of2.close()"
   ]
  }
 ],
 "metadata": {
  "kernelspec": {
   "display_name": "Python 3",
   "language": "python",
   "name": "python3"
  },
  "language_info": {
   "codemirror_mode": {
    "name": "ipython",
    "version": 3
   },
   "file_extension": ".py",
   "mimetype": "text/x-python",
   "name": "python",
   "nbconvert_exporter": "python",
   "pygments_lexer": "ipython3",
   "version": "3.7.6"
  }
 },
 "nbformat": 4,
 "nbformat_minor": 4
}
