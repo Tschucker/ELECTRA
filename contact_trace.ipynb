{
 "cells": [
  {
   "cell_type": "markdown",
   "metadata": {},
   "source": [
    "# Location Based Encryption Contact Tracing Algorithm and Processing Statistics"
   ]
  },
  {
   "cell_type": "markdown",
   "metadata": {},
   "source": [
    "## Import Libraries"
   ]
  },
  {
   "cell_type": "code",
   "execution_count": 1,
   "metadata": {},
   "outputs": [],
   "source": [
    "import numpy as np\n",
    "from Crypto.Cipher import AES\n",
    "import matplotlib.pyplot as plt\n",
    "import pickle\n",
    "from classes import Person, Location, EDataPair\n",
    "import string, random\n",
    "import time\n",
    "\n",
    "#constant\n",
    "min_per_day = 1440"
   ]
  },
  {
   "cell_type": "markdown",
   "metadata": {},
   "source": [
    "## Set Plot Style"
   ]
  },
  {
   "cell_type": "code",
   "execution_count": 2,
   "metadata": {},
   "outputs": [],
   "source": [
    "plt.rcParams['figure.figsize'] = [25/2.54, 20/2.54]\n",
    "plt.style.use('dark_background')\n",
    "plt.rcParams['figure.dpi'] = 300\n",
    "prop_cycle = plt.rcParams['axes.prop_cycle']\n",
    "colors = prop_cycle.by_key()['color']"
   ]
  },
  {
   "cell_type": "markdown",
   "metadata": {},
   "source": [
    "## Import Data from Population Simulation"
   ]
  },
  {
   "cell_type": "code",
   "execution_count": 12,
   "metadata": {},
   "outputs": [
    {
     "name": "stdout",
     "output_type": "stream",
     "text": [
      "Number of people in Clear Population: 198\n",
      "Number of people in Infected Population: 2\n"
     ]
    }
   ],
   "source": [
    "f1 = 'clear_population.pickle'\n",
    "if1 = open(f1,'rb')\n",
    "people = pickle.load(if1)\n",
    "if1.close()\n",
    "\n",
    "f2 = 'infected_population.pickle'\n",
    "if2 = open(f2,'rb')\n",
    "infected = pickle.load(if2)\n",
    "if2.close()\n",
    "\n",
    "print(\"Number of people in Clear Population:\", len(people))\n",
    "print(\"Number of people in Infected Population:\", len(infected))"
   ]
  },
  {
   "cell_type": "markdown",
   "metadata": {},
   "source": [
    "## Assign Random Value ID to Each Location in Infected Array"
   ]
  },
  {
   "cell_type": "markdown",
   "metadata": {},
   "source": [
    "The unique value ID is associated with infected to show that it is a confirmed case. An ID is generated each of infected's locations. These IDs are used as the master private database to be checked against."
   ]
  },
  {
   "cell_type": "code",
   "execution_count": 13,
   "metadata": {},
   "outputs": [
    {
     "name": "stdout",
     "output_type": "stream",
     "text": [
      "Example Unique Data ID: b'hwqqIhlmWL0O4P1l'\n"
     ]
    }
   ],
   "source": [
    "#Determine the number of data ids to produce\n",
    "num_data_ids = 0\n",
    "for i in range(len(infected)):\n",
    "    num_data_ids = num_data_ids + len(infected[i].locs)\n",
    "    \n",
    "#Create unique data ids (as number of infected grows creating enough unique ids could get difficult)\n",
    "total_data_ids = []\n",
    "i = 0\n",
    "while i < num_data_ids:\n",
    "    #needs to be updated to not just ascii to blend into attempted decryptions better\n",
    "    temp_id = ''.join(random.choice(string.ascii_uppercase + string.ascii_lowercase + string.digits) for x in range(16))\n",
    "    if temp_id not in total_data_ids:\n",
    "        #encode to match decryption output format (wont be needed when id format changes)\n",
    "        total_data_ids.append(temp_id.encode('UTF-8'))\n",
    "        i = i + 1\n",
    "\n",
    "#Assign a data id to each location (assignment could be random index)\n",
    "for i in range(len(infected)):\n",
    "    for loc_i in range(len(infected[i].locs)):\n",
    "        infected[i].locs[loc_i].data_id = total_data_ids[(i+1)*loc_i]\n",
    "        \n",
    "print(\"Example Unique Data ID:\",total_data_ids[0])"
   ]
  },
  {
   "cell_type": "markdown",
   "metadata": {},
   "source": [
    "## Create Encrypted Data"
   ]
  },
  {
   "cell_type": "markdown",
   "metadata": {},
   "source": [
    "Each of the infected persons uses their location data to encrypt the associated data_id. That encrypted data is then placed in an public database array for users to compare against."
   ]
  },
  {
   "cell_type": "code",
   "execution_count": 18,
   "metadata": {},
   "outputs": [],
   "source": [
    "encrypted_data = []\n",
    "encrypt_time_array = []\n",
    "for person in infected:\n",
    "    start = time.time()\n",
    "    for loc in person.locs:\n",
    "        #Create initilization vector for the aes encryption (used in plain text)\n",
    "        iv = ''.join(random.choice(string.ascii_uppercase + string.ascii_lowercase + string.digits) for x in range(16))\n",
    "        \n",
    "        #Extend cell number with x's to create 16byte key\n",
    "        key = str(loc.cell)\n",
    "        if len(key) < 16:\n",
    "            ext = ''.join('x' for x in range(16-len(key)))\n",
    "            key = key + ext\n",
    "        \n",
    "        #Create the aes object\n",
    "        aes = AES.new(key, AES.MODE_CBC, iv)\n",
    "        \n",
    "        #Encrypt the assigned data id\n",
    "        temp_edata = aes.encrypt(loc.data_id)\n",
    "        \n",
    "        #pair up the initilization vector and the encrypted data\n",
    "        encrypted_data.append(EDataPair(iv,temp_edata))\n",
    "    end = time.time()\n",
    "    encrypt_time_array.append(end-start)"
   ]
  },
  {
   "cell_type": "code",
   "execution_count": 19,
   "metadata": {},
   "outputs": [
    {
     "name": "stdout",
     "output_type": "stream",
     "text": [
      "Example Key Generated with Location Cell ID: 635138xxxxxxxxxx\n",
      "Number of Encrypted Points in Public Datatabase: 2880\n",
      "Average Encryption time per Infected Person: 0.26625287532806396 sec\n"
     ]
    }
   ],
   "source": [
    "num_encrypted_data = len(encrypted_data)\n",
    "print('Example Key Generated with Location Cell ID:', key)\n",
    "print('Number of Encrypted Points in Public Datatabase:',num_encrypted_data)\n",
    "print('Average Encryption time per Infected Person:',np.mean(encrypt_time_array),'sec')"
   ]
  },
  {
   "cell_type": "markdown",
   "metadata": {},
   "source": [
    "## Perform Decryption Attempts Test"
   ]
  },
  {
   "cell_type": "markdown",
   "metadata": {},
   "source": [
    "The users will then try to decrypt the public encrypted data using their own location data as the set of potential keys. This generates a block of decryption attempts for each user.\n",
    "Python proof of concept will use people in the clear population with known contacts to check the algorithm and speed up dev iterations."
   ]
  },
  {
   "cell_type": "code",
   "execution_count": 16,
   "metadata": {},
   "outputs": [
    {
     "name": "stdout",
     "output_type": "stream",
     "text": [
      "Known people with contacts: 1\n",
      "Number of Decrypted Attempts per Person: 4147200\n",
      "Average Decryption Attempts time per Person: 31.930400133132935 sec\n"
     ]
    }
   ],
   "source": [
    "test_people = []\n",
    "for person in people:\n",
    "    if len(person.contacts) > 0:\n",
    "        test_people.append(person)\n",
    "        break #used for single person test\n",
    "\n",
    "print('Known people with contacts:',len(test_people))\n",
    "\n",
    "decrypt_time_array = []\n",
    "for person in test_people:\n",
    "    start = time.time()\n",
    "    for loc in person.locs:\n",
    "        #Extend cell number with x's to create 16byte key\n",
    "        key = str(loc.cell)\n",
    "        if len(key) < 16:\n",
    "            ext = ''.join('x' for x in range(16-len(key)))\n",
    "            key = key + ext\n",
    "        \n",
    "        for pair in encrypted_data:\n",
    "            #Create the aes object\n",
    "            aes = AES.new(key, AES.MODE_CBC, pair.iv)\n",
    "            attempt = aes.decrypt(pair.edata)\n",
    "            person.decypted_attempts.append(attempt)\n",
    "    end = time.time()\n",
    "    decrypt_time_array.append(end-start)\n",
    "            \n",
    "num_decypted_attampts = len(test_people[0].decypted_attempts)\n",
    "print('Number of Decrypted Attempts per Person:',num_decypted_attampts)\n",
    "print('Average Decryption Attempts time per Person:',np.mean(decrypt_time_array),'sec')"
   ]
  },
  {
   "cell_type": "markdown",
   "metadata": {},
   "source": [
    "## Check Matching Decryptions "
   ]
  },
  {
   "cell_type": "markdown",
   "metadata": {},
   "source": [
    "The decryption attempts for each user are checked against the private data_id database array to see if they match. The private database calculation is done on the server side and reports only the number of contacts.\n",
    "Show the real known contacts vs the algorithm generated contacts to make sure they match. Look into using a bloom filter in the future. "
   ]
  },
  {
   "cell_type": "code",
   "execution_count": 9,
   "metadata": {},
   "outputs": [
    {
     "name": "stdout",
     "output_type": "stream",
     "text": [
      "Known Contacts: 100 Decrypted Contacts 200\n",
      "Average Check time: 3.231235619386037\n"
     ]
    }
   ],
   "source": [
    "db_check_time_array = []\n",
    "for person in test_people:\n",
    "    start = time.time()\n",
    "    for attempt in person.decypted_attempts:\n",
    "        if attempt in total_data_ids:\n",
    "            person.alg_contacts.append(attempt)\n",
    "    end = time.time()\n",
    "    db_check_time_array.append(end-start)\n",
    "    print('Known Contacts:', len(person.contacts), 'Decrypted Contacts', len(person.alg_contacts))\n",
    "print ('Average Check time:', np.mean(db_check_time_array)/60, 'min')"
   ]
  },
  {
   "cell_type": "markdown",
   "metadata": {},
   "source": [
    "## Processing Statistics"
   ]
  },
  {
   "cell_type": "code",
   "execution_count": 17,
   "metadata": {},
   "outputs": [
    {
     "name": "stdout",
     "output_type": "stream",
     "text": [
      "Number of checks performed by the database per Person: 11943936000\n",
      "Total Number of checks performed by the database: 2364899328000\n"
     ]
    }
   ],
   "source": [
    "checks = num_encrypted_data * num_decypted_attampts\n",
    "print('Number of checks performed by the database per Person:', checks)\n",
    "print('Total Number of checks performed by the database:', checks*len(people))"
   ]
  }
 ],
 "metadata": {
  "kernelspec": {
   "display_name": "Python 3",
   "language": "python",
   "name": "python3"
  },
  "language_info": {
   "codemirror_mode": {
    "name": "ipython",
    "version": 3
   },
   "file_extension": ".py",
   "mimetype": "text/x-python",
   "name": "python",
   "nbconvert_exporter": "python",
   "pygments_lexer": "ipython3",
   "version": "3.7.6"
  }
 },
 "nbformat": 4,
 "nbformat_minor": 4
}
